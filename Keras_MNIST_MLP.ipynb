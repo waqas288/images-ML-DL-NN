{
 "cells": [
  {
   "cell_type": "code",
   "execution_count": 1,
   "metadata": {},
   "outputs": [],
   "source": [
    "import numpy as np\n",
    "np.random.seed(10)"
   ]
  },
  {
   "cell_type": "code",
   "execution_count": 2,
   "metadata": {},
   "outputs": [],
   "source": [
    "from keras.utils import np_utils"
   ]
  },
  {
   "cell_type": "code",
   "execution_count": 3,
   "metadata": {},
   "outputs": [],
   "source": [
    "from keras.datasets import mnist"
   ]
  },
  {
   "cell_type": "code",
   "execution_count": 4,
   "metadata": {},
   "outputs": [
    {
     "name": "stdout",
     "output_type": "stream",
     "text": [
      "Downloading data from https://storage.googleapis.com/tensorflow/tf-keras-datasets/mnist.npz\n",
      "11490434/11490434 [==============================] - 5s 0us/step\n"
     ]
    }
   ],
   "source": [
    "(x_train_image, y_train_label), (x_test_image, y_test_label) = mnist.load_data()"
   ]
  },
  {
   "cell_type": "code",
   "execution_count": 5,
   "metadata": {},
   "outputs": [
    {
     "name": "stdout",
     "output_type": "stream",
     "text": [
      "shape of train image= (60000, 28, 28)\n",
      "shape of test image= (10000, 28, 28)\n"
     ]
    }
   ],
   "source": [
    "print('shape of train image=', x_train_image.shape)\n",
    "print('shape of test image=', x_test_image.shape)"
   ]
  },
  {
   "cell_type": "code",
   "execution_count": 6,
   "metadata": {},
   "outputs": [],
   "source": [
    "reshape_dim = 28 * 28\n",
    "x_train_reshaped = x_train_image.reshape(60000, reshape_dim).astype('float32')\n",
    "x_test_reshaped = x_test_image.reshape(10000, reshape_dim).astype('float32')"
   ]
  },
  {
   "cell_type": "code",
   "execution_count": 7,
   "metadata": {},
   "outputs": [],
   "source": [
    "x_train_normalized = x_train_reshaped / 255\n",
    "x_test_normalized = x_test_reshaped / 255"
   ]
  },
  {
   "cell_type": "code",
   "execution_count": 8,
   "metadata": {},
   "outputs": [
    {
     "name": "stdout",
     "output_type": "stream",
     "text": [
      "[5 0 4 1 9]\n",
      "[7 2 1 0 4]\n"
     ]
    }
   ],
   "source": [
    "print(y_train_label[:5])\n",
    "print(y_test_label[:5])"
   ]
  },
  {
   "cell_type": "code",
   "execution_count": 9,
   "metadata": {},
   "outputs": [],
   "source": [
    "y_train_oneHotEncoding = np_utils.to_categorical(y_train_label)\n",
    "y_test_oneHotEncoding = np_utils.to_categorical(y_test_label)"
   ]
  },
  {
   "cell_type": "code",
   "execution_count": 10,
   "metadata": {},
   "outputs": [
    {
     "name": "stdout",
     "output_type": "stream",
     "text": [
      "[[0. 0. 0. 0. 0. 1. 0. 0. 0. 0.]\n",
      " [1. 0. 0. 0. 0. 0. 0. 0. 0. 0.]\n",
      " [0. 0. 0. 0. 1. 0. 0. 0. 0. 0.]\n",
      " [0. 1. 0. 0. 0. 0. 0. 0. 0. 0.]\n",
      " [0. 0. 0. 0. 0. 0. 0. 0. 0. 1.]]\n",
      "[[0. 0. 0. 0. 0. 0. 0. 1. 0. 0.]\n",
      " [0. 0. 1. 0. 0. 0. 0. 0. 0. 0.]\n",
      " [0. 1. 0. 0. 0. 0. 0. 0. 0. 0.]\n",
      " [1. 0. 0. 0. 0. 0. 0. 0. 0. 0.]\n",
      " [0. 0. 0. 0. 1. 0. 0. 0. 0. 0.]]\n"
     ]
    }
   ],
   "source": [
    "print(y_train_oneHotEncoding[:5])\n",
    "print(y_test_oneHotEncoding[:5])"
   ]
  },
  {
   "cell_type": "code",
   "execution_count": 11,
   "metadata": {},
   "outputs": [
    {
     "name": "stdout",
     "output_type": "stream",
     "text": [
      "(60000, 784)\n",
      "(60000, 10)\n"
     ]
    }
   ],
   "source": [
    "print(x_train_normalized.shape)\n",
    "print(y_train_oneHotEncoding.shape)"
   ]
  },
  {
   "cell_type": "code",
   "execution_count": 24,
   "metadata": {},
   "outputs": [],
   "source": [
    "from keras.models import Sequential\n",
    "from keras.layers import Dense\n",
    "from keras.utils.vis_utils import plot_model"
   ]
  },
  {
   "cell_type": "code",
   "execution_count": 13,
   "metadata": {},
   "outputs": [],
   "source": [
    "from keras.layers import Dropout"
   ]
  },
  {
   "cell_type": "code",
   "execution_count": 14,
   "metadata": {},
   "outputs": [],
   "source": [
    "model = Sequential()"
   ]
  },
  {
   "cell_type": "code",
   "execution_count": 15,
   "metadata": {},
   "outputs": [],
   "source": [
    "model.add( Dense(units=512, input_dim=784, kernel_initializer='normal', activation='relu') )\n",
    "model.add( Dropout(0.5))"
   ]
  },
  {
   "cell_type": "code",
   "execution_count": 16,
   "metadata": {},
   "outputs": [],
   "source": [
    "model.add( Dense(units=128, input_dim=784, kernel_initializer='normal', activation='relu') )\n",
    "model.add( Dropout(0.5))"
   ]
  },
  {
   "cell_type": "code",
   "execution_count": 17,
   "metadata": {},
   "outputs": [],
   "source": [
    "model.add( Dense(units=10, kernel_initializer='normal', activation='softmax') )"
   ]
  },
  {
   "cell_type": "code",
   "execution_count": 18,
   "metadata": {},
   "outputs": [
    {
     "name": "stdout",
     "output_type": "stream",
     "text": [
      "Model: \"sequential\"\n",
      "_________________________________________________________________\n",
      " Layer (type)                Output Shape              Param #   \n",
      "=================================================================\n",
      " dense (Dense)               (None, 512)               401920    \n",
      "                                                                 \n",
      " dropout (Dropout)           (None, 512)               0         \n",
      "                                                                 \n",
      " dense_1 (Dense)             (None, 128)               65664     \n",
      "                                                                 \n",
      " dropout_1 (Dropout)         (None, 128)               0         \n",
      "                                                                 \n",
      " dense_2 (Dense)             (None, 10)                1290      \n",
      "                                                                 \n",
      "=================================================================\n",
      "Total params: 468,874\n",
      "Trainable params: 468,874\n",
      "Non-trainable params: 0\n",
      "_________________________________________________________________\n",
      "None\n"
     ]
    }
   ],
   "source": [
    "print( model.summary() )"
   ]
  },
  {
   "cell_type": "code",
   "execution_count": 19,
   "metadata": {},
   "outputs": [],
   "source": [
    "model.compile( loss='categorical_crossentropy', optimizer= 'adam', metrics=['accuracy'])"
   ]
  },
  {
   "cell_type": "code",
   "execution_count": 20,
   "metadata": {},
   "outputs": [
    {
     "name": "stdout",
     "output_type": "stream",
     "text": [
      "Epoch 1/10\n",
      "960/960 - 7s - loss: 0.4281 - accuracy: 0.8703 - val_loss: 0.1478 - val_accuracy: 0.9563 - 7s/epoch - 8ms/step\n",
      "Epoch 2/10\n",
      "960/960 - 6s - loss: 0.1958 - accuracy: 0.9410 - val_loss: 0.1115 - val_accuracy: 0.9661 - 6s/epoch - 6ms/step\n",
      "Epoch 3/10\n",
      "960/960 - 7s - loss: 0.1567 - accuracy: 0.9544 - val_loss: 0.1017 - val_accuracy: 0.9693 - 7s/epoch - 7ms/step\n",
      "Epoch 4/10\n",
      "960/960 - 7s - loss: 0.1316 - accuracy: 0.9603 - val_loss: 0.1007 - val_accuracy: 0.9709 - 7s/epoch - 7ms/step\n",
      "Epoch 5/10\n",
      "960/960 - 8s - loss: 0.1173 - accuracy: 0.9642 - val_loss: 0.0920 - val_accuracy: 0.9736 - 8s/epoch - 8ms/step\n",
      "Epoch 6/10\n",
      "960/960 - 7s - loss: 0.1080 - accuracy: 0.9683 - val_loss: 0.0875 - val_accuracy: 0.9768 - 7s/epoch - 7ms/step\n",
      "Epoch 7/10\n",
      "960/960 - 7s - loss: 0.1006 - accuracy: 0.9700 - val_loss: 0.0827 - val_accuracy: 0.9759 - 7s/epoch - 7ms/step\n",
      "Epoch 8/10\n",
      "960/960 - 7s - loss: 0.0920 - accuracy: 0.9726 - val_loss: 0.0794 - val_accuracy: 0.9774 - 7s/epoch - 7ms/step\n",
      "Epoch 9/10\n",
      "960/960 - 7s - loss: 0.0865 - accuracy: 0.9741 - val_loss: 0.0843 - val_accuracy: 0.9777 - 7s/epoch - 7ms/step\n",
      "Epoch 10/10\n",
      "960/960 - 7s - loss: 0.0848 - accuracy: 0.9737 - val_loss: 0.0830 - val_accuracy: 0.9784 - 7s/epoch - 7ms/step\n"
     ]
    }
   ],
   "source": [
    "train_history = model.fit( x=x_train_normalized, y=y_train_oneHotEncoding, validation_split=0.2, epochs=10, batch_size=50, verbose=2)\n",
    "# note: verbose=2 means to show the training process"
   ]
  },
  {
   "cell_type": "code",
   "execution_count": 21,
   "metadata": {},
   "outputs": [],
   "source": [
    "import matplotlib.pyplot as pyplot\n",
    "def my_show_train_history(input_train_history, input_train, input_validation):\n",
    "    pyplot.plot(input_train_history.history[input_train] )\n",
    "    pyplot.plot(input_train_history.history[input_validation])\n",
    "    pyplot.title('Train History')\n",
    "    pyplot.ylabel(input_train)\n",
    "    # pyplot.ylabel('Accuracy')\n",
    "    pyplot.xlabel('Epoch')\n",
    "    pyplot.legend(['my_train','my_validation'], loc='upper left')\n",
    "    pyplot.show()"
   ]
  },
  {
   "cell_type": "code",
   "execution_count": 25,
   "metadata": {},
   "outputs": [
    {
     "name": "stdout",
     "output_type": "stream",
     "text": [
      "You must install pydot (`pip install pydot`) and install graphviz (see instructions at https://graphviz.gitlab.io/download/) for plot_model to work.\n"
     ]
    }
   ],
   "source": [
    "plot_model(model, to_file='model.png', show_shapes=True)"
   ]
  },
  {
   "cell_type": "code",
   "execution_count": 22,
   "metadata": {},
   "outputs": [
    {
     "ename": "KeyError",
     "evalue": "'acc'",
     "output_type": "error",
     "traceback": [
      "\u001b[1;31m---------------------------------------------------------------------------\u001b[0m",
      "\u001b[1;31mKeyError\u001b[0m                                  Traceback (most recent call last)",
      "Cell \u001b[1;32mIn[22], line 1\u001b[0m\n\u001b[1;32m----> 1\u001b[0m \u001b[43mmy_show_train_history\u001b[49m\u001b[43m(\u001b[49m\u001b[43mtrain_history\u001b[49m\u001b[43m,\u001b[49m\u001b[43m \u001b[49m\u001b[38;5;124;43m'\u001b[39;49m\u001b[38;5;124;43macc\u001b[39;49m\u001b[38;5;124;43m'\u001b[39;49m\u001b[43m,\u001b[49m\u001b[43m \u001b[49m\u001b[38;5;124;43m'\u001b[39;49m\u001b[38;5;124;43mval_acc\u001b[39;49m\u001b[38;5;124;43m'\u001b[39;49m\u001b[43m)\u001b[49m\n",
      "Cell \u001b[1;32mIn[21], line 3\u001b[0m, in \u001b[0;36mmy_show_train_history\u001b[1;34m(input_train_history, input_train, input_validation)\u001b[0m\n\u001b[0;32m      2\u001b[0m \u001b[38;5;28;01mdef\u001b[39;00m \u001b[38;5;21mmy_show_train_history\u001b[39m(input_train_history, input_train, input_validation):\n\u001b[1;32m----> 3\u001b[0m     pyplot\u001b[38;5;241m.\u001b[39mplot(\u001b[43minput_train_history\u001b[49m\u001b[38;5;241;43m.\u001b[39;49m\u001b[43mhistory\u001b[49m\u001b[43m[\u001b[49m\u001b[43minput_train\u001b[49m\u001b[43m]\u001b[49m )\n\u001b[0;32m      4\u001b[0m     pyplot\u001b[38;5;241m.\u001b[39mplot(input_train_history\u001b[38;5;241m.\u001b[39mhistory[input_validation])\n\u001b[0;32m      5\u001b[0m     pyplot\u001b[38;5;241m.\u001b[39mtitle(\u001b[38;5;124m'\u001b[39m\u001b[38;5;124mTrain History\u001b[39m\u001b[38;5;124m'\u001b[39m)\n",
      "\u001b[1;31mKeyError\u001b[0m: 'acc'"
     ]
    }
   ],
   "source": [
    "my_show_train_history(train_history, 'acc', 'val_acc')"
   ]
  },
  {
   "cell_type": "code",
   "execution_count": null,
   "metadata": {},
   "outputs": [],
   "source": [
    "my_show_train_history(train_history, 'loss', 'val_loss')"
   ]
  },
  {
   "cell_type": "code",
   "execution_count": null,
   "metadata": {},
   "outputs": [],
   "source": [
    "# after training (and validation), then using public test_data for evaluation \n",
    "scores = model.evaluate(x_test_normalized, y_test_oneHotEncoding)\n",
    "print(scores)\n",
    "print('accuracy=', scores[1])"
   ]
  },
  {
   "cell_type": "code",
   "execution_count": null,
   "metadata": {},
   "outputs": [],
   "source": [
    "prediction = model.predict_classes(x_test_normalized)"
   ]
  },
  {
   "cell_type": "code",
   "execution_count": null,
   "metadata": {},
   "outputs": [],
   "source": [
    "prediction"
   ]
  },
  {
   "cell_type": "code",
   "execution_count": null,
   "metadata": {},
   "outputs": [],
   "source": [
    "import matplotlib.pyplot as pyplot\n",
    "def my_plot_images_labels_prediction(input_images, input_labels, input_prediction, input_index, input_num=10):\n",
    "    fig = pyplot.gcf()\n",
    "    fig.set_size_inches(12,14)\n",
    "    if input_num>10:\n",
    "        input_num=10\n",
    "    for i in range(0, input_num):\n",
    "        ax = pyplot.subplot(5,5,1+i)\n",
    "        ax.imshow(input_images[input_index], cmap='binary')\n",
    "        title = \"label=\" + str(input_labels[input_index])\n",
    "        if len(input_prediction)>0:\n",
    "            title= title + \", predict=\" + str(input_prediction[input_index])\n",
    "        ax.set_title(title,fontsize=10)\n",
    "        ax.set_xticks([])\n",
    "        ax.set_yticks([])\n",
    "        input_index = input_index + 1\n",
    "    pyplot.show()"
   ]
  },
  {
   "cell_type": "code",
   "execution_count": null,
   "metadata": {},
   "outputs": [],
   "source": [
    "my_plot_images_labels_prediction(x_test_image, y_test_label, prediction, input_index=1393, input_num=5)"
   ]
  },
  {
   "cell_type": "code",
   "execution_count": null,
   "metadata": {},
   "outputs": [],
   "source": [
    "# confusion matrix\n",
    "import pandas as pd\n",
    "pd.crosstab(y_test_label, prediction, rownames=['label'],colnames=['predict'])"
   ]
  },
  {
   "cell_type": "code",
   "execution_count": null,
   "metadata": {},
   "outputs": [],
   "source": [
    "df = pd.DataFrame({'label':y_test_label, 'predict':prediction})\n",
    "df"
   ]
  },
  {
   "cell_type": "code",
   "execution_count": null,
   "metadata": {},
   "outputs": [],
   "source": [
    "df[:2]"
   ]
  },
  {
   "cell_type": "code",
   "execution_count": null,
   "metadata": {},
   "outputs": [],
   "source": [
    "# find \"label=5, but predict=3\"\n",
    "df[(df.label==5)&(df.predict==3)]"
   ]
  },
  {
   "cell_type": "code",
   "execution_count": null,
   "metadata": {},
   "outputs": [],
   "source": [
    "my_plot_images_labels_prediction(x_test_image, y_test_label, prediction, input_index=1393, input_num=1)"
   ]
  }
 ],
 "metadata": {
  "kernelspec": {
   "display_name": "Python 3 (ipykernel)",
   "language": "python",
   "name": "python3"
  },
  "language_info": {
   "codemirror_mode": {
    "name": "ipython",
    "version": 3
   },
   "file_extension": ".py",
   "mimetype": "text/x-python",
   "name": "python",
   "nbconvert_exporter": "python",
   "pygments_lexer": "ipython3",
   "version": "3.10.9"
  }
 },
 "nbformat": 4,
 "nbformat_minor": 2
}
